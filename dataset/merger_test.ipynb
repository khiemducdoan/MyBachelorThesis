{
 "cells": [
  {
   "cell_type": "code",
   "execution_count": 8,
   "id": "b805d3c2",
   "metadata": {},
   "outputs": [],
   "source": [
    "data = \"/home/khanhnt/Khiem/MyBachelorThesis/dataset/raw/datasetok.csv\"\n",
    "text = \"/home/khanhnt/Khiem/MyBachelorThesis/dataset/text_modality/text_en.csv\"\n",
    "\n",
    "#merge two csv files\n",
    "import pandas as pd\n",
    "df1 = pd.read_csv(data)\n",
    "df2 = pd.read_csv(text)\n",
    "df2 = df2.drop(columns=['label'])\n",
    "#merge two dataframes\n",
    "df1[\"text\"] = df2[\"text\"]"
   ]
  },
  {
   "cell_type": "code",
   "execution_count": 9,
   "id": "89a59388",
   "metadata": {},
   "outputs": [
    {
     "data": {
      "text/html": [
       "<div>\n",
       "<style scoped>\n",
       "    .dataframe tbody tr th:only-of-type {\n",
       "        vertical-align: middle;\n",
       "    }\n",
       "\n",
       "    .dataframe tbody tr th {\n",
       "        vertical-align: top;\n",
       "    }\n",
       "\n",
       "    .dataframe thead th {\n",
       "        text-align: right;\n",
       "    }\n",
       "</style>\n",
       "<table border=\"1\" class=\"dataframe\">\n",
       "  <thead>\n",
       "    <tr style=\"text-align: right;\">\n",
       "      <th></th>\n",
       "      <th>age_at_record</th>\n",
       "      <th>sex</th>\n",
       "      <th>tbi_cli_reason</th>\n",
       "      <th>tbi_cli_time_acci_hos</th>\n",
       "      <th>tbi_cli_pulse</th>\n",
       "      <th>tbi_cli_temp</th>\n",
       "      <th>tbi_cli_blood_pressure</th>\n",
       "      <th>tbi_cli_breathing_rate</th>\n",
       "      <th>tbi_cli_glasgow</th>\n",
       "      <th>tbi_cli_awaken</th>\n",
       "      <th>...</th>\n",
       "      <th>albumin_v2</th>\n",
       "      <th>ure_v2</th>\n",
       "      <th>creatinin_v2</th>\n",
       "      <th>prothrombin_v2</th>\n",
       "      <th>d_3_aptt</th>\n",
       "      <th>d_4_dtim</th>\n",
       "      <th>d_target</th>\n",
       "      <th>tbi_ct_brain_parenchyma___7</th>\n",
       "      <th>tbi_ct_brain_parenchyma___8</th>\n",
       "      <th>text</th>\n",
       "    </tr>\n",
       "  </thead>\n",
       "  <tbody>\n",
       "    <tr>\n",
       "      <th>0</th>\n",
       "      <td>52.0</td>\n",
       "      <td>0</td>\n",
       "      <td>1.0</td>\n",
       "      <td>2.0</td>\n",
       "      <td>70</td>\n",
       "      <td>36.5</td>\n",
       "      <td>2</td>\n",
       "      <td>19</td>\n",
       "      <td>13</td>\n",
       "      <td>1.0</td>\n",
       "      <td>...</td>\n",
       "      <td>1.0</td>\n",
       "      <td>0.0</td>\n",
       "      <td>0.0</td>\n",
       "      <td>0.0</td>\n",
       "      <td>0.0</td>\n",
       "      <td>0.0</td>\n",
       "      <td>2</td>\n",
       "      <td>1.0</td>\n",
       "      <td>0</td>\n",
       "      <td>Intracerebral hematoma cerebral contusion righ...</td>\n",
       "    </tr>\n",
       "    <tr>\n",
       "      <th>1</th>\n",
       "      <td>75.0</td>\n",
       "      <td>0</td>\n",
       "      <td>2.0</td>\n",
       "      <td>NaN</td>\n",
       "      <td>77</td>\n",
       "      <td>36.8</td>\n",
       "      <td>2</td>\n",
       "      <td>22</td>\n",
       "      <td>13</td>\n",
       "      <td>NaN</td>\n",
       "      <td>...</td>\n",
       "      <td>1.0</td>\n",
       "      <td>0.0</td>\n",
       "      <td>0.0</td>\n",
       "      <td>0.0</td>\n",
       "      <td>0.0</td>\n",
       "      <td>NaN</td>\n",
       "      <td>2</td>\n",
       "      <td>1.0</td>\n",
       "      <td>0</td>\n",
       "      <td>left subperitoneal hematoma left impaction lef...</td>\n",
       "    </tr>\n",
       "    <tr>\n",
       "      <th>2</th>\n",
       "      <td>37.0</td>\n",
       "      <td>0</td>\n",
       "      <td>3.0</td>\n",
       "      <td>NaN</td>\n",
       "      <td>67</td>\n",
       "      <td>36.6</td>\n",
       "      <td>2</td>\n",
       "      <td>18</td>\n",
       "      <td>15</td>\n",
       "      <td>1.0</td>\n",
       "      <td>...</td>\n",
       "      <td>NaN</td>\n",
       "      <td>0.0</td>\n",
       "      <td>0.0</td>\n",
       "      <td>0.0</td>\n",
       "      <td>0.0</td>\n",
       "      <td>0.0</td>\n",
       "      <td>2</td>\n",
       "      <td>0.0</td>\n",
       "      <td>0</td>\n",
       "      <td>Hematoma under the membrane_chronic_sale_bridge 2</td>\n",
       "    </tr>\n",
       "    <tr>\n",
       "      <th>3</th>\n",
       "      <td>66.0</td>\n",
       "      <td>0</td>\n",
       "      <td>4.0</td>\n",
       "      <td>NaN</td>\n",
       "      <td>75</td>\n",
       "      <td>36.5</td>\n",
       "      <td>2</td>\n",
       "      <td>19</td>\n",
       "      <td>14</td>\n",
       "      <td>0.0</td>\n",
       "      <td>...</td>\n",
       "      <td>0.0</td>\n",
       "      <td>0.0</td>\n",
       "      <td>0.0</td>\n",
       "      <td>0.0</td>\n",
       "      <td>0.0</td>\n",
       "      <td>NaN</td>\n",
       "      <td>3</td>\n",
       "      <td>0.0</td>\n",
       "      <td>0</td>\n",
       "      <td>brain contusion right hypochondrium right hypo...</td>\n",
       "    </tr>\n",
       "    <tr>\n",
       "      <th>4</th>\n",
       "      <td>20.0</td>\n",
       "      <td>0</td>\n",
       "      <td>2.0</td>\n",
       "      <td>4.0</td>\n",
       "      <td>85</td>\n",
       "      <td>36.8</td>\n",
       "      <td>2</td>\n",
       "      <td>18</td>\n",
       "      <td>15</td>\n",
       "      <td>0.0</td>\n",
       "      <td>...</td>\n",
       "      <td>NaN</td>\n",
       "      <td>0.0</td>\n",
       "      <td>0.0</td>\n",
       "      <td>0.0</td>\n",
       "      <td>0.0</td>\n",
       "      <td>NaN</td>\n",
       "      <td>2</td>\n",
       "      <td>0.0</td>\n",
       "      <td>0</td>\n",
       "      <td>Hematoma of the submental membrane of the fore...</td>\n",
       "    </tr>\n",
       "  </tbody>\n",
       "</table>\n",
       "<p>5 rows × 66 columns</p>\n",
       "</div>"
      ],
      "text/plain": [
       "   age_at_record  sex  tbi_cli_reason  tbi_cli_time_acci_hos  tbi_cli_pulse  \\\n",
       "0           52.0    0             1.0                    2.0             70   \n",
       "1           75.0    0             2.0                    NaN             77   \n",
       "2           37.0    0             3.0                    NaN             67   \n",
       "3           66.0    0             4.0                    NaN             75   \n",
       "4           20.0    0             2.0                    4.0             85   \n",
       "\n",
       "   tbi_cli_temp  tbi_cli_blood_pressure  tbi_cli_breathing_rate  \\\n",
       "0          36.5                       2                      19   \n",
       "1          36.8                       2                      22   \n",
       "2          36.6                       2                      18   \n",
       "3          36.5                       2                      19   \n",
       "4          36.8                       2                      18   \n",
       "\n",
       "   tbi_cli_glasgow  tbi_cli_awaken  ...  albumin_v2  ure_v2  creatinin_v2  \\\n",
       "0               13             1.0  ...         1.0     0.0           0.0   \n",
       "1               13             NaN  ...         1.0     0.0           0.0   \n",
       "2               15             1.0  ...         NaN     0.0           0.0   \n",
       "3               14             0.0  ...         0.0     0.0           0.0   \n",
       "4               15             0.0  ...         NaN     0.0           0.0   \n",
       "\n",
       "   prothrombin_v2  d_3_aptt  d_4_dtim  d_target  tbi_ct_brain_parenchyma___7  \\\n",
       "0             0.0       0.0       0.0         2                          1.0   \n",
       "1             0.0       0.0       NaN         2                          1.0   \n",
       "2             0.0       0.0       0.0         2                          0.0   \n",
       "3             0.0       0.0       NaN         3                          0.0   \n",
       "4             0.0       0.0       NaN         2                          0.0   \n",
       "\n",
       "   tbi_ct_brain_parenchyma___8  \\\n",
       "0                            0   \n",
       "1                            0   \n",
       "2                            0   \n",
       "3                            0   \n",
       "4                            0   \n",
       "\n",
       "                                                text  \n",
       "0  Intracerebral hematoma cerebral contusion righ...  \n",
       "1  left subperitoneal hematoma left impaction lef...  \n",
       "2  Hematoma under the membrane_chronic_sale_bridge 2  \n",
       "3  brain contusion right hypochondrium right hypo...  \n",
       "4  Hematoma of the submental membrane of the fore...  \n",
       "\n",
       "[5 rows x 66 columns]"
      ]
     },
     "execution_count": 9,
     "metadata": {},
     "output_type": "execute_result"
    }
   ],
   "source": [
    "df1.head()"
   ]
  },
  {
   "cell_type": "code",
   "execution_count": 10,
   "id": "10c8bdb3",
   "metadata": {},
   "outputs": [
    {
     "name": "stdout",
     "output_type": "stream",
     "text": [
      "143\n",
      "<class 'str'>\n",
      "503\n"
     ]
    }
   ],
   "source": [
    "df1.to_csv(\"/home/khanhnt/Khiem/MyBachelorThesis/dataset/raw/datasetok.csv\", index=False)\n",
    "#in ra len của text tại vị trí 0 của dataset df1\n",
    "print(len(df1[\"text\"][3]))\n",
    "print(type(df1[\"text\"][3]))\n",
    "print(len(df1))"
   ]
  },
  {
   "cell_type": "code",
   "execution_count": 12,
   "id": "3b5f6c44",
   "metadata": {},
   "outputs": [
    {
     "name": "stderr",
     "output_type": "stream",
     "text": [
      "Tokenizing with emilyalsentzer/Bio_ClinicalBERT: 100%|██████████| 503/503 [00:00<00:00, 3607.25it/s]\n"
     ]
    },
    {
     "name": "stdout",
     "output_type": "stream",
     "text": [
      "\n",
      "📌 Model: emilyalsentzer/Bio_ClinicalBERT\n",
      "  → Max token length: 803\n",
      "  → 90th percentile: 90.00\n",
      "  → Mean token length: 55.82\n"
     ]
    },
    {
     "name": "stderr",
     "output_type": "stream",
     "text": [
      "Tokenizing with dmis-lab/biobert-base-cased-v1.1: 100%|██████████| 503/503 [00:00<00:00, 3474.42it/s]\n"
     ]
    },
    {
     "name": "stdout",
     "output_type": "stream",
     "text": [
      "\n",
      "📌 Model: dmis-lab/biobert-base-cased-v1.1\n",
      "  → Max token length: 803\n",
      "  → 90th percentile: 90.00\n",
      "  → Mean token length: 55.82\n"
     ]
    },
    {
     "name": "stderr",
     "output_type": "stream",
     "text": [
      "Tokenizing with bionlp/bluebert_pubmed_mimic_uncased_L-12_H-768_A-12: 100%|██████████| 503/503 [00:00<00:00, 3664.22it/s]\n"
     ]
    },
    {
     "name": "stdout",
     "output_type": "stream",
     "text": [
      "\n",
      "📌 Model: bionlp/bluebert_pubmed_mimic_uncased_L-12_H-768_A-12\n",
      "  → Max token length: 803\n",
      "  → 90th percentile: 89.00\n",
      "  → Mean token length: 54.17\n"
     ]
    },
    {
     "name": "stderr",
     "output_type": "stream",
     "text": [
      "Tokenizing with microsoft/BiomedNLP-PubMedBERT-base-uncased-abstract: 100%|██████████| 503/503 [00:00<00:00, 4083.75it/s]\n"
     ]
    },
    {
     "name": "stdout",
     "output_type": "stream",
     "text": [
      "\n",
      "📌 Model: microsoft/BiomedNLP-PubMedBERT-base-uncased-abstract\n",
      "  → Max token length: 450\n",
      "  → 90th percentile: 58.00\n",
      "  → Mean token length: 38.39\n"
     ]
    },
    {
     "name": "stderr",
     "output_type": "stream",
     "text": [
      "Tokenizing with yikuan8/Clinical-Longformer: 100%|██████████| 503/503 [00:00<00:00, 4231.00it/s]"
     ]
    },
    {
     "name": "stdout",
     "output_type": "stream",
     "text": [
      "\n",
      "📌 Model: yikuan8/Clinical-Longformer\n",
      "  → Max token length: 638\n",
      "  → 90th percentile: 79.00\n",
      "  → Mean token length: 51.31\n"
     ]
    },
    {
     "name": "stderr",
     "output_type": "stream",
     "text": [
      "\n"
     ]
    }
   ],
   "source": [
    "from transformers import AutoTokenizer\n",
    "import pandas as pd\n",
    "from tqdm import tqdm\n",
    "\n",
    "# Danh sách các mô hình y tế\n",
    "model_names = [\n",
    "    \"emilyalsentzer/Bio_ClinicalBERT\",\n",
    "    \"dmis-lab/biobert-base-cased-v1.1\",\n",
    "    \"bionlp/bluebert_pubmed_mimic_uncased_L-12_H-768_A-12\",\n",
    "    \"microsoft/BiomedNLP-PubMedBERT-base-uncased-abstract\",\n",
    "    \"yikuan8/Clinical-Longformer\"\n",
    "]\n",
    "\n",
    "# Lặp qua từng mô hình\n",
    "for model_name in model_names:\n",
    "    tokenizer = AutoTokenizer.from_pretrained(model_name)\n",
    "    max_len = 0\n",
    "    lengths = []\n",
    "\n",
    "    for i in tqdm(range(len(df1)), desc=f\"Tokenizing with {model_name}\"):\n",
    "        text = df1[\"text\"][i]\n",
    "        if isinstance(text, str):\n",
    "            tokens = tokenizer.tokenize(text)\n",
    "            token_count = len(tokens)\n",
    "            lengths.append(token_count)\n",
    "            if token_count > max_len:\n",
    "                max_len = token_count\n",
    "\n",
    "    print(f\"\\n📌 Model: {model_name}\")\n",
    "    print(f\"  → Max token length: {max_len}\")\n",
    "    print(f\"  → 90th percentile: {pd.Series(lengths).quantile(0.9):.2f}\")\n",
    "    print(f\"  → Mean token length: {pd.Series(lengths).mean():.2f}\")\n"
   ]
  },
  {
   "cell_type": "code",
   "execution_count": 23,
   "id": "a556d124",
   "metadata": {},
   "outputs": [
    {
     "ename": "TypeError",
     "evalue": "object of type 'float' has no len()",
     "output_type": "error",
     "traceback": [
      "\u001b[0;31m---------------------------------------------------------------------------\u001b[0m",
      "\u001b[0;31mTypeError\u001b[0m                                 Traceback (most recent call last)",
      "Cell \u001b[0;32mIn[23], line 4\u001b[0m\n\u001b[1;32m      2\u001b[0m max_len \u001b[38;5;241m=\u001b[39m \u001b[38;5;241m0\u001b[39m\n\u001b[1;32m      3\u001b[0m \u001b[38;5;28;01mfor\u001b[39;00m i \u001b[38;5;129;01min\u001b[39;00m \u001b[38;5;28mrange\u001b[39m(\u001b[38;5;28mlen\u001b[39m(df1)):\n\u001b[0;32m----> 4\u001b[0m     \u001b[38;5;28;01mif\u001b[39;00m \u001b[38;5;28;43mlen\u001b[39;49m\u001b[43m(\u001b[49m\u001b[43mdf1\u001b[49m\u001b[43m[\u001b[49m\u001b[38;5;124;43m\"\u001b[39;49m\u001b[38;5;124;43mtext\u001b[39;49m\u001b[38;5;124;43m\"\u001b[39;49m\u001b[43m]\u001b[49m\u001b[43m[\u001b[49m\u001b[43mi\u001b[49m\u001b[43m]\u001b[49m\u001b[43m)\u001b[49m \u001b[38;5;241m>\u001b[39m max_len:\n\u001b[1;32m      5\u001b[0m         max_len \u001b[38;5;241m=\u001b[39m \u001b[38;5;28mlen\u001b[39m(df1[\u001b[38;5;124m\"\u001b[39m\u001b[38;5;124mtext\u001b[39m\u001b[38;5;124m\"\u001b[39m][i])\n\u001b[1;32m      6\u001b[0m \u001b[38;5;28mprint\u001b[39m(max_len)\n",
      "\u001b[0;31mTypeError\u001b[0m: object of type 'float' has no len()"
     ]
    }
   ],
   "source": [
    "#in ra max len của df1[\"text\"]\n",
    "max_len = 0\n",
    "for i in range(len(df1)):\n",
    "    if len(df1[\"text\"][i]) > max_len:\n",
    "        max_len = len(df1[\"text\"][i])\n",
    "print(max_len)"
   ]
  },
  {
   "cell_type": "code",
   "execution_count": null,
   "id": "d61f6576",
   "metadata": {},
   "outputs": [],
   "source": []
  }
 ],
 "metadata": {
  "kernelspec": {
   "display_name": "Python 3",
   "language": "python",
   "name": "python3"
  },
  "language_info": {
   "codemirror_mode": {
    "name": "ipython",
    "version": 3
   },
   "file_extension": ".py",
   "mimetype": "text/x-python",
   "name": "python",
   "nbconvert_exporter": "python",
   "pygments_lexer": "ipython3",
   "version": "3.9.21"
  }
 },
 "nbformat": 4,
 "nbformat_minor": 5
}
